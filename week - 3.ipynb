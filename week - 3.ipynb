{
 "cells": [
  {
   "cell_type": "code",
   "execution_count": 1,
   "id": "23c3c724",
   "metadata": {},
   "outputs": [],
   "source": [
    "import numpy as np"
   ]
  },
  {
   "cell_type": "code",
   "execution_count": 12,
   "id": "1bf3b5db",
   "metadata": {},
   "outputs": [],
   "source": [
    "class Network:\n",
    "    def __init__(self, layers):\n",
    "        self.network = {}\n",
    "        self.layers = layers\n",
    "        \n",
    "        for i in range(1, len(layers)):\n",
    "            self.network[f\"layer {i}\"] =  {\n",
    "                \"weights\" : np.random.rand(\n",
    "                        layers[i - 1],     # per each row each output\n",
    "                        layers[i]          # per each col each input\n",
    "                    ),\n",
    "                \"bias\" : np.random.rand(\n",
    "                        layers[i]\n",
    "                    )\n",
    "            }\n",
    "    \n",
    "    def activation_function(self, values):\n",
    "        \"\"\"\n",
    "            sigmoid activation function\n",
    "        \"\"\"\n",
    "        sigmoid = lambda x : 1 / (1 + np.exp(-x))\n",
    "        \n",
    "        return np.array(\n",
    "            list(\n",
    "                map(\n",
    "                    sigmoid,\n",
    "                    values.tolist()\n",
    "                )\n",
    "            )\n",
    "        )\n",
    "        \n",
    "    def forward_propagation(self, input_layer):\n",
    "        \"\"\"\n",
    "            outcome function which will give the output values output layer\n",
    "            \n",
    "            \n",
    "            output = f(w.transpose * input + bias)\n",
    "        \"\"\"\n",
    "        input_values = np.array(input_layer)\n",
    "        \n",
    "        for layer_name, layer in self.network.items():\n",
    "            layer_output = (layer['weights'].transpose() @ input_values) + layer['bias']\n",
    "          \n",
    "            threshold_output = self.activation_function(layer_output)\n",
    "        \n",
    "            input_values = threshold_output\n",
    "            \n",
    "        return np.round(input_values, 2)"
   ]
  },
  {
   "cell_type": "code",
   "execution_count": 13,
   "id": "b5657301",
   "metadata": {},
   "outputs": [],
   "source": [
    "network = Network([5, 3, 2, 3, 1])"
   ]
  },
  {
   "cell_type": "code",
   "execution_count": 14,
   "id": "49a386a2",
   "metadata": {},
   "outputs": [
    {
     "name": "stdout",
     "output_type": "stream",
     "text": [
      "Output is [0.92]\n"
     ]
    }
   ],
   "source": [
    "print(f\"Output is {network.forward_propagation([2, 1, 1 , 1, 2])}\")"
   ]
  },
  {
   "cell_type": "code",
   "execution_count": null,
   "id": "79d99a90",
   "metadata": {},
   "outputs": [],
   "source": []
  },
  {
   "cell_type": "code",
   "execution_count": null,
   "id": "148f11ca",
   "metadata": {},
   "outputs": [],
   "source": []
  }
 ],
 "metadata": {
  "kernelspec": {
   "display_name": "Python 3 (ipykernel)",
   "language": "python",
   "name": "python3"
  },
  "language_info": {
   "codemirror_mode": {
    "name": "ipython",
    "version": 3
   },
   "file_extension": ".py",
   "mimetype": "text/x-python",
   "name": "python",
   "nbconvert_exporter": "python",
   "pygments_lexer": "ipython3",
   "version": "3.9.12"
  }
 },
 "nbformat": 4,
 "nbformat_minor": 5
}
