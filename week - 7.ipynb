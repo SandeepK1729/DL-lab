{
 "cells": [
  {
   "cell_type": "code",
   "execution_count": 12,
   "id": "f7d2c259",
   "metadata": {
    "executionInfo": {
     "elapsed": 14,
     "status": "ok",
     "timestamp": 1679291557311,
     "user": {
      "displayName": "20H51A6654-ELLULLA PRANAY B.Tech AI&ML (2020-24)",
      "userId": "12104231917421119045"
     },
     "user_tz": -330
    },
    "id": "Djvf7UT6q5nt"
   },
   "outputs": [],
   "source": [
    "import numpy as np \n",
    "import pandas as pd \n",
    "\n",
    "import matplotlib.pyplot as plt\n",
    "import seaborn as sns\n",
    "\n",
    "import matplotlib.image as mpimg\n",
    "\n",
    "from sklearn.model_selection import train_test_split\n",
    "from sklearn.metrics import confusion_matrix, classification_report, accuracy_score\n",
    "\n",
    "from tensorflow.keras.utils import to_categorical\n",
    "from tensorflow.keras.models import Sequential\n",
    "from tensorflow.keras.layers import Conv2D, MaxPool2D, Dense, Flatten, Dropout\n",
    "from keras.datasets import mnist\n",
    "\n",
    "import visualkeras"
   ]
  },
  {
   "cell_type": "code",
   "execution_count": 13,
   "id": "072b4b4c",
   "metadata": {
    "executionInfo": {
     "elapsed": 4277,
     "status": "ok",
     "timestamp": 1679291561577,
     "user": {
      "displayName": "20H51A6654-ELLULLA PRANAY B.Tech AI&ML (2020-24)",
      "userId": "12104231917421119045"
     },
     "user_tz": -330
    },
    "id": "xsMuhWG1rDwf"
   },
   "outputs": [],
   "source": [
    "# loading dataset\n",
    "(X_train, y_train), (X_test, y_test) = mnist.load_data()\n",
    "\n",
    "X = np.concatenate([X_train, X_test], axis = 0)\n",
    "y = np.concatenate([y_train, y_test], axis = 0)\n",
    "\n",
    "# reshapring \n",
    "X = X.reshape(X.shape[0], 28, 28, 1) \n",
    "\n",
    "# casting to float \n",
    "X.astype('float32')\n",
    "\n",
    "# normalizing \n",
    "X = X / 255\n",
    "\n",
    "# encoding output values\n",
    "y = to_categorical(y)"
   ]
  },
  {
   "cell_type": "code",
   "execution_count": 14,
   "id": "da3744cf",
   "metadata": {
    "executionInfo": {
     "elapsed": 7,
     "status": "ok",
     "timestamp": 1679291563611,
     "user": {
      "displayName": "20H51A6654-ELLULLA PRANAY B.Tech AI&ML (2020-24)",
      "userId": "12104231917421119045"
     },
     "user_tz": -330
    },
    "id": "RyvnYoRAzVx9"
   },
   "outputs": [],
   "source": [
    "INPUT_SHAPE = (28,28,1)\n",
    "OUTPUT_SHAPE = 10\n",
    "BATCH_SIZE = 6\n",
    "EPOCHS = 2 \n",
    "VERBOSE = 2\n",
    "K_FOLDS = 10"
   ]
  },
  {
   "cell_type": "code",
   "execution_count": 4,
   "id": "3dde881f",
   "metadata": {
    "executionInfo": {
     "elapsed": 671,
     "status": "ok",
     "timestamp": 1679291564275,
     "user": {
      "displayName": "20H51A6654-ELLULLA PRANAY B.Tech AI&ML (2020-24)",
      "userId": "12104231917421119045"
     },
     "user_tz": -330
    },
    "id": "paMfamiZzujy"
   },
   "outputs": [],
   "source": [
    "def create_model():\n",
    "    model = Sequential()\n",
    "\n",
    "    model.add(Conv2D(32, kernel_size=(3,3), activation='relu', input_shape=INPUT_SHAPE))\n",
    "    model.add(MaxPool2D((2,2)))\n",
    "\n",
    "    model.add(Conv2D(64, kernel_size=(3,3), activation='relu'))\n",
    "    model.add(MaxPool2D((2,2)))\n",
    "\n",
    "    model.add(Flatten())\n",
    "\n",
    "    model.add(Dense(128, activation='relu'))\n",
    "    model.add(Dropout(0.2))\n",
    "\n",
    "    model.add(Dense(64, activation='relu'))\n",
    "    model.add(Dropout(0.2))\n",
    "\n",
    "    model.add(Dense(10, activation='softmax'))\n",
    "    \n",
    "    model.compile(\n",
    "        optimizer='adam', \n",
    "        loss='categorical_crossentropy', \n",
    "        metrics=['accuracy']\n",
    "    )\n",
    "    \n",
    "    return model"
   ]
  },
  {
   "cell_type": "code",
   "execution_count": 5,
   "id": "df549816",
   "metadata": {
    "colab": {
     "base_uri": "https://localhost:8080/"
    },
    "executionInfo": {
     "elapsed": 395,
     "status": "ok",
     "timestamp": 1679291564664,
     "user": {
      "displayName": "20H51A6654-ELLULLA PRANAY B.Tech AI&ML (2020-24)",
      "userId": "12104231917421119045"
     },
     "user_tz": -330
    },
    "id": "jxk2xq5Vz5qf",
    "outputId": "325d6fc7-a0a5-49a8-d72f-8bf5256dc6fc"
   },
   "outputs": [
    {
     "name": "stdout",
     "output_type": "stream",
     "text": [
      "Model: \"sequential\"\n",
      "_________________________________________________________________\n",
      " Layer (type)                Output Shape              Param #   \n",
      "=================================================================\n",
      " conv2d (Conv2D)             (None, 26, 26, 32)        320       \n",
      "                                                                 \n",
      " max_pooling2d (MaxPooling2D  (None, 13, 13, 32)       0         \n",
      " )                                                               \n",
      "                                                                 \n",
      " conv2d_1 (Conv2D)           (None, 11, 11, 64)        18496     \n",
      "                                                                 \n",
      " max_pooling2d_1 (MaxPooling  (None, 5, 5, 64)         0         \n",
      " 2D)                                                             \n",
      "                                                                 \n",
      " flatten (Flatten)           (None, 1600)              0         \n",
      "                                                                 \n",
      " dense (Dense)               (None, 128)               204928    \n",
      "                                                                 \n",
      " dropout (Dropout)           (None, 128)               0         \n",
      "                                                                 \n",
      " dense_1 (Dense)             (None, 64)                8256      \n",
      "                                                                 \n",
      " dropout_1 (Dropout)         (None, 64)                0         \n",
      "                                                                 \n",
      " dense_2 (Dense)             (None, 10)                650       \n",
      "                                                                 \n",
      "=================================================================\n",
      "Total params: 232,650\n",
      "Trainable params: 232,650\n",
      "Non-trainable params: 0\n",
      "_________________________________________________________________\n"
     ]
    }
   ],
   "source": [
    "model = create_model()\n",
    "model.summary()"
   ]
  },
  {
   "cell_type": "code",
   "execution_count": 20,
   "id": "d38719ef",
   "metadata": {
    "colab": {
     "base_uri": "https://localhost:8080/"
    },
    "id": "fCKvX_--vh_d",
    "outputId": "ed9594a8-623a-4fe0-8467-1dd77955e4f7"
   },
   "outputs": [
    {
     "name": "stdout",
     "output_type": "stream",
     "text": [
      "Epoch 1/2\n",
      "5717/5717 - 27s - loss: 0.2064 - accuracy: 0.9364 - val_loss: 0.0734 - val_accuracy: 0.9796 - 27s/epoch - 5ms/step\n",
      "Epoch 2/2\n",
      "5717/5717 - 26s - loss: 0.0796 - accuracy: 0.9771 - val_loss: 0.0526 - val_accuracy: 0.9863 - 26s/epoch - 5ms/step\n"
     ]
    }
   ],
   "source": [
    "X_train, X_test, y_train, y_test = train_test_split(X, y, test_size=0.3)\n",
    "    \n",
    "model = create_model()\n",
    "model.fit(\n",
    "    X_train, \n",
    "    y_train,\n",
    "    epochs=EPOCHS,\n",
    "    batch_size=BATCH_SIZE,\n",
    "    verbose=VERBOSE,\n",
    "    validation_split=0.3\n",
    ")\n",
    "\n",
    "_, score = model.evaluate(X_test, y_test, verbose = 0)"
   ]
  },
  {
   "cell_type": "code",
   "execution_count": 21,
   "id": "42f36132",
   "metadata": {},
   "outputs": [
    {
     "name": "stdout",
     "output_type": "stream",
     "text": [
      "657/657 [==============================] - 2s 3ms/step\n"
     ]
    }
   ],
   "source": [
    "y_pred = model.predict(X_test)\n",
    "\n"
   ]
  },
  {
   "cell_type": "code",
   "execution_count": 26,
   "id": "215afbf4",
   "metadata": {},
   "outputs": [
    {
     "name": "stdout",
     "output_type": "stream",
     "text": [
      "Accuracy: 98.54285714285714\n"
     ]
    }
   ],
   "source": [
    "y_actual    = [np.argmax(i) for i in y_test]\n",
    "y_predicted = [np.argmax(i) for i in y_pred]\n",
    "\n",
    "print(\"Accuracy:\", accuracy_score(y_actual, y_predicted) * 100)"
   ]
  },
  {
   "cell_type": "code",
   "execution_count": 27,
   "id": "3536ac1a",
   "metadata": {},
   "outputs": [
    {
     "data": {
      "image/png": "[encoded data removed]",
      "text/plain": [
       "<Figure size 504x504 with 1 Axes>"
      ]
     },
     "metadata": {
      "needs_background": "light"
     },
     "output_type": "display_data"
    }
   ],
   "source": [
    "fig, ax = plt.subplots(figsize=(7, 7))\n",
    "sns.heatmap(confusion_matrix(y_actual, y_predicted), annot=True, \n",
    "            cbar=False, fmt='1d', cmap='Blues', ax=ax)\n",
    "ax.set_title('Confusion Matrix', loc='left', fontsize=16)\n",
    "ax.set_xlabel('Predicted')\n",
    "ax.set_ylabel('Actual')\n",
    "plt.show()"
   ]
  },
  {
   "cell_type": "code",
   "execution_count": null,
   "id": "35cf51d7",
   "metadata": {},
   "outputs": [],
   "source": []
  }
 ],
 "metadata": {
  "kernelspec": {
   "display_name": "Python 3 (ipykernel)",
   "language": "python",
   "name": "python3"
  },
  "language_info": {
   "codemirror_mode": {
    "name": "ipython",
    "version": 3
   },
   "file_extension": ".py",
   "mimetype": "text/x-python",
   "name": "python",
   "nbconvert_exporter": "python",
   "pygments_lexer": "ipython3",
   "version": "3.10.4"
  }
 },
 "nbformat": 4,
 "nbformat_minor": 5
}
