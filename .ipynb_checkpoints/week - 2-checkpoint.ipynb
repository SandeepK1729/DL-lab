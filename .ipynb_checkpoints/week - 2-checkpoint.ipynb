{
 "cells": [
  {
   "cell_type": "code",
   "execution_count": 29,
   "id": "e153d797",
   "metadata": {},
   "outputs": [],
   "source": [
    "import numpy as np"
   ]
  },
  {
   "cell_type": "code",
   "execution_count": 34,
   "id": "1bf3b5db",
   "metadata": {},
   "outputs": [],
   "source": [
    "class Network:\n",
    "    def __init__(self, layers):\n",
    "        self.network = {}\n",
    "        self.layers = layers\n",
    "        \n",
    "        for i in range(1, len(layers)):\n",
    "            self.network[f\"layer_{i}\"] =  {\n",
    "                \"weights\" : np.random.rand(\n",
    "                        layers[i - 1],     # per each row each output\n",
    "                        layers[i]          # per each col each input\n",
    "                    ),\n",
    "                \"bias\" : np.random.rand(\n",
    "                        layers[i]\n",
    "                    )\n",
    "            }\n",
    "    \n",
    "    def activation_function(self, values):\n",
    "        \"\"\"\n",
    "            sigmoid activation function\n",
    "        \"\"\"\n",
    "        sigmoid = lambda x : 1 / (1 + np.exp(-x))\n",
    "        \n",
    "        return np.array(\n",
    "            list(\n",
    "                map(\n",
    "                    sigmoid,\n",
    "                    values.tolist()\n",
    "                )\n",
    "            )\n",
    "        )\n",
    "        \n",
    "    def outcome(self, input_layer):\n",
    "        \"\"\"\n",
    "            outcome function which will give the output values output layer\n",
    "            \n",
    "            \n",
    "            output = f(w.transpose * input + bias)\n",
    "        \"\"\"\n",
    "        input_layer = np.array(input_layer)\n",
    "        \n",
    "        for layer in self.network.values():\n",
    "            input_layer = self.activation_function(\n",
    "                    (input_layer.transpose() @ layer['weights']) + layer['bias']\n",
    "                )\n",
    "            \n",
    "        return input_layer"
   ]
  },
  {
   "cell_type": "code",
   "execution_count": 35,
   "id": "b5657301",
   "metadata": {},
   "outputs": [],
   "source": [
    "network = Network([2, 2, 1])"
   ]
  },
  {
   "cell_type": "code",
   "execution_count": 36,
   "id": "49a386a2",
   "metadata": {},
   "outputs": [
    {
     "data": {
      "text/plain": [
       "array([0.88332623])"
      ]
     },
     "execution_count": 36,
     "metadata": {},
     "output_type": "execute_result"
    }
   ],
   "source": [
    "network.outcome([2, 1])"
   ]
  },
  {
   "cell_type": "code",
   "execution_count": null,
   "id": "2111b0d6",
   "metadata": {},
   "outputs": [],
   "source": []
  }
 ],
 "metadata": {
  "kernelspec": {
   "display_name": "Python 3 (ipykernel)",
   "language": "python",
   "name": "python3"
  },
  "language_info": {
   "codemirror_mode": {
    "name": "ipython",
    "version": 3
   },
   "file_extension": ".py",
   "mimetype": "text/x-python",
   "name": "python",
   "nbconvert_exporter": "python",
   "pygments_lexer": "ipython3",
   "version": "3.8.8"
  }
 },
 "nbformat": 4,
 "nbformat_minor": 5
}
