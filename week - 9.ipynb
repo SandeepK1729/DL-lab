{
 "cells": [
  {
   "cell_type": "markdown",
   "id": "1ab9ba2e",
   "metadata": {},
   "source": [
    "### Week 9: Construct AlexNet on MNIST dataset compute the performance evaluation matrices."
   ]
  },
  {
   "cell_type": "code",
   "execution_count": 1,
   "id": "42105193",
   "metadata": {},
   "outputs": [],
   "source": [
    "from keras.datasets import mnist\n",
    "from keras.utils import to_categorical\n",
    "from keras.models import Sequential\n",
    "from keras.layers import Conv2D, MaxPooling2D, Dense, Dropout, Flatten\n",
    "\n",
    "from numpy import argmax\n",
    "from sklearn.metrics import confusion_matrix, classification_report, accuracy_score, precision_score, recall_score, f1_score\n",
    "from seaborn import heatmap\n",
    "from matplotlib import pyplot as plt"
   ]
  },
  {
   "cell_type": "code",
   "execution_count": 2,
   "id": "351256b8",
   "metadata": {},
   "outputs": [],
   "source": [
    "# preprocessing of data\n",
    "(X_train, y_train), (X_test, y_test) = mnist.load_data()\n",
    "\n",
    "X_train = X_train.reshape(-1, 28, 28, 1) / 255.0\n",
    "X_test  =  X_test.reshape(-1, 28, 28, 1) / 255.0\n",
    "\n",
    "y_train = to_categorical(y_train)\n",
    "y_test  = to_categorical(y_test)"
   ]
  },
  {
   "cell_type": "code",
   "execution_count": 3,
   "id": "2adf49c5",
   "metadata": {},
   "outputs": [],
   "source": [
    "# loading model\n",
    "def create_model():\n",
    "    model = Sequential([\n",
    "        Conv2D(32, kernel_size = (5, 5), activation = 'relu', input_shape = (28, 28, 1)),\n",
    "        MaxPooling2D(pool_size = (2, 2)),\n",
    "        \n",
    "        Conv2D(64, kernel_size = (3, 3), activation = 'relu', padding = 'same'),\n",
    "        MaxPooling2D(pool_size = (2, 2)),\n",
    "                     \n",
    "        Conv2D(128, kernel_size = (3, 3), activation = 'relu', padding = 'same'),\n",
    "        Conv2D(128, kernel_size = (3, 3), activation = 'relu', padding = 'same'),\n",
    "        Conv2D(128, kernel_size = (3, 3), activation = 'relu', padding = 'same'),\n",
    "        MaxPooling2D(pool_size = (2, 2)),\n",
    "        \n",
    "        Flatten(),\n",
    "        \n",
    "        Dense(64, activation = 'relu'),\n",
    "        Dropout(0.4),\n",
    "        \n",
    "        Dense(32, activation = 'relu'),\n",
    "        Dropout(0.2),\n",
    "        \n",
    "        Dense(10, activation = 'softmax'),\n",
    "    ])\n",
    "    \n",
    "    model.compile(\n",
    "        optimizer = 'adam', \n",
    "        loss = 'categorical_crossentropy',\n",
    "        metrics = ['accuracy']\n",
    "    )\n",
    "    return model"
   ]
  },
  {
   "cell_type": "code",
   "execution_count": 4,
   "id": "e4cae05f",
   "metadata": {},
   "outputs": [
    {
     "name": "stdout",
     "output_type": "stream",
     "text": [
      "Epoch 1/3\n",
      "7000/7000 - 97s - loss: 0.3327 - accuracy: 0.8996 - val_loss: 0.1154 - val_accuracy: 0.9714 - 97s/epoch - 14ms/step\n",
      "Epoch 2/3\n",
      "7000/7000 - 107s - loss: 0.1276 - accuracy: 0.9699 - val_loss: 0.0828 - val_accuracy: 0.9797 - 107s/epoch - 15ms/step\n",
      "Epoch 3/3\n",
      "7000/7000 - 96s - loss: 0.0964 - accuracy: 0.9774 - val_loss: 0.0821 - val_accuracy: 0.9833 - 96s/epoch - 14ms/step\n"
     ]
    },
    {
     "data": {
      "text/plain": [
       "<keras.callbacks.History at 0x240eeec2c20>"
      ]
     },
     "execution_count": 4,
     "metadata": {},
     "output_type": "execute_result"
    }
   ],
   "source": [
    "model = create_model()\n",
    "model.fit(\n",
    "    X_train, \n",
    "    y_train,\n",
    "    epochs = 3,\n",
    "    batch_size = 6,\n",
    "    verbose = 2,\n",
    "    validation_split = 0.3\n",
    ")"
   ]
  },
  {
   "cell_type": "code",
   "execution_count": 5,
   "id": "da1ca9a2",
   "metadata": {},
   "outputs": [
    {
     "name": "stdout",
     "output_type": "stream",
     "text": [
      "313/313 [==============================] - 4s 11ms/step\n"
     ]
    }
   ],
   "source": [
    "y_pred   = model.predict(X_test)"
   ]
  },
  {
   "cell_type": "code",
   "execution_count": 6,
   "id": "25e1ca78",
   "metadata": {},
   "outputs": [
    {
     "name": "stdout",
     "output_type": "stream",
     "text": [
      "Accuracy Score : 98.50999999999999\n",
      "Precision Score : 98.50999999999999\n",
      "Recall Score : 98.50999999999999\n",
      "F1 Score : 98.50999999999999\n"
     ]
    },
    {
     "data": {
      "image/png": "[encoded data removed]",
      "text/plain": [
       "<Figure size 504x504 with 1 Axes>"
      ]
     },
     "metadata": {
      "needs_background": "light"
     },
     "output_type": "display_data"
    }
   ],
   "source": [
    "y_actual = [argmax(i) for i in y_test]\n",
    "y_pred   = [argmax(i) for i in y_pred]\n",
    "\n",
    "print(\"Accuracy Score :\", accuracy_score(y_pred, y_actual) * 100)\n",
    "print(\"Precision Score :\", precision_score(y_actual, y_pred, average='micro') * 100)\n",
    "print(\"Recall Score :\", recall_score(y_actual, y_pred, average='micro') * 100)\n",
    "print(\"F1 Score :\", f1_score(y_actual, y_pred, average='micro') * 100)\n",
    "\n",
    "_, ax = plt.subplots(figsize = (7, 7))\n",
    "ax.set_title(\"Confusion Matrix\")\n",
    "heatmap(confusion_matrix(y_actual, y_pred), annot = True,cbar=False, fmt='1d', cmap='Blues', ax = ax)\n",
    "plt.show()"
   ]
  },
  {
   "cell_type": "code",
   "execution_count": null,
   "id": "2e8b3f58",
   "metadata": {},
   "outputs": [],
   "source": []
  }
 ],
 "metadata": {
  "kernelspec": {
   "display_name": "Python 3 (ipykernel)",
   "language": "python",
   "name": "python3"
  },
  "language_info": {
   "codemirror_mode": {
    "name": "ipython",
    "version": 3
   },
   "file_extension": ".py",
   "mimetype": "text/x-python",
   "name": "python",
   "nbconvert_exporter": "python",
   "pygments_lexer": "ipython3",
   "version": "3.10.4"
  }
 },
 "nbformat": 4,
 "nbformat_minor": 5
}
