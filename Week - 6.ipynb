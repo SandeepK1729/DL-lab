{
 "cells": [
  {
   "cell_type": "code",
   "execution_count": 2,
   "metadata": {
    "executionInfo": {
     "elapsed": 14,
     "status": "ok",
     "timestamp": 1679291557311,
     "user": {
      "displayName": "20H51A6654-ELLULLA PRANAY B.Tech AI&ML (2020-24)",
      "userId": "12104231917421119045"
     },
     "user_tz": -330
    },
    "id": "Djvf7UT6q5nt"
   },
   "outputs": [],
   "source": [
    "import numpy as np \n",
    "import pandas as pd \n",
    "\n",
    "import matplotlib.pyplot as plt\n",
    "import seaborn as sns\n",
    "\n",
    "import matplotlib.image as mpimg\n",
    "\n",
    "from sklearn.model_selection import train_test_split\n",
    "from sklearn.metrics import confusion_matrix, classification_report\n",
    "\n",
    "from tensorflow.keras.utils import to_categorical\n",
    "from tensorflow.keras.models import Sequential\n",
    "from tensorflow.keras.layers import Conv2D, MaxPool2D, Dense, Flatten, Dropout\n",
    "from keras.datasets import mnist\n",
    "\n",
    "import visualkeras"
   ]
  },
  {
   "cell_type": "code",
   "execution_count": 3,
   "metadata": {
    "executionInfo": {
     "elapsed": 4277,
     "status": "ok",
     "timestamp": 1679291561577,
     "user": {
      "displayName": "20H51A6654-ELLULLA PRANAY B.Tech AI&ML (2020-24)",
      "userId": "12104231917421119045"
     },
     "user_tz": -330
    },
    "id": "xsMuhWG1rDwf"
   },
   "outputs": [],
   "source": [
    "# loading dataset\n",
    "(X_train, y_train), (X_test, y_test) = mnist.load_data()\n",
    "\n",
    "X = np.concatenate([X_train, X_test], axis = 0)\n",
    "y = np.concatenate([y_train, y_test], axis = 0)\n",
    "\n",
    "# reshapring \n",
    "X = X.reshape(X.shape[0], 28, 28, 1) \n",
    "\n",
    "# casting to float \n",
    "X.astype('float32')\n",
    "\n",
    "# normalizing \n",
    "X = X / 255\n",
    "\n",
    "# encoding output values\n",
    "y = to_categorical(y)"
   ]
  },
  {
   "cell_type": "code",
   "execution_count": 9,
   "metadata": {
    "executionInfo": {
     "elapsed": 7,
     "status": "ok",
     "timestamp": 1679291563611,
     "user": {
      "displayName": "20H51A6654-ELLULLA PRANAY B.Tech AI&ML (2020-24)",
      "userId": "12104231917421119045"
     },
     "user_tz": -330
    },
    "id": "RyvnYoRAzVx9"
   },
   "outputs": [],
   "source": [
    "INPUT_SHAPE = (28,28,1)\n",
    "OUTPUT_SHAPE = 10\n",
    "BATCH_SIZE = 6\n",
    "EPOCHS = 2 \n",
    "VERBOSE = 2\n",
    "K_FOLDS = 10"
   ]
  },
  {
   "cell_type": "code",
   "execution_count": 10,
   "metadata": {
    "executionInfo": {
     "elapsed": 671,
     "status": "ok",
     "timestamp": 1679291564275,
     "user": {
      "displayName": "20H51A6654-ELLULLA PRANAY B.Tech AI&ML (2020-24)",
      "userId": "12104231917421119045"
     },
     "user_tz": -330
    },
    "id": "paMfamiZzujy"
   },
   "outputs": [],
   "source": [
    "def create_model():\n",
    "    model = Sequential()\n",
    "\n",
    "    model.add(Conv2D(32, kernel_size=(3,3), activation='relu', input_shape=INPUT_SHAPE))\n",
    "    model.add(MaxPool2D((2,2)))\n",
    "\n",
    "    model.add(Conv2D(64, kernel_size=(3,3), activation='relu'))\n",
    "    model.add(MaxPool2D((2,2)))\n",
    "\n",
    "    model.add(Flatten())\n",
    "\n",
    "    model.add(Dense(128, activation='relu'))\n",
    "    model.add(Dropout(0.2))\n",
    "\n",
    "    model.add(Dense(64, activation='relu'))\n",
    "    model.add(Dropout(0.2))\n",
    "\n",
    "    model.add(Dense(10, activation='softmax'))\n",
    "    \n",
    "    model.compile(\n",
    "        optimizer='adam', \n",
    "        loss='categorical_crossentropy', \n",
    "        metrics=['accuracy']\n",
    "    )\n",
    "    \n",
    "    return model"
   ]
  },
  {
   "cell_type": "code",
   "execution_count": 11,
   "metadata": {
    "colab": {
     "base_uri": "https://localhost:8080/"
    },
    "executionInfo": {
     "elapsed": 395,
     "status": "ok",
     "timestamp": 1679291564664,
     "user": {
      "displayName": "20H51A6654-ELLULLA PRANAY B.Tech AI&ML (2020-24)",
      "userId": "12104231917421119045"
     },
     "user_tz": -330
    },
    "id": "jxk2xq5Vz5qf",
    "outputId": "325d6fc7-a0a5-49a8-d72f-8bf5256dc6fc"
   },
   "outputs": [
    {
     "name": "stdout",
     "output_type": "stream",
     "text": [
      "Model: \"sequential_2\"\n",
      "_________________________________________________________________\n",
      " Layer (type)                Output Shape              Param #   \n",
      "=================================================================\n",
      " conv2d_4 (Conv2D)           (None, 26, 26, 32)        320       \n",
      "                                                                 \n",
      " max_pooling2d_4 (MaxPooling  (None, 13, 13, 32)       0         \n",
      " 2D)                                                             \n",
      "                                                                 \n",
      " conv2d_5 (Conv2D)           (None, 11, 11, 64)        18496     \n",
      "                                                                 \n",
      " max_pooling2d_5 (MaxPooling  (None, 5, 5, 64)         0         \n",
      " 2D)                                                             \n",
      "                                                                 \n",
      " flatten_2 (Flatten)         (None, 1600)              0         \n",
      "                                                                 \n",
      " dense_6 (Dense)             (None, 128)               204928    \n",
      "                                                                 \n",
      " dropout_4 (Dropout)         (None, 128)               0         \n",
      "                                                                 \n",
      " dense_7 (Dense)             (None, 64)                8256      \n",
      "                                                                 \n",
      " dropout_5 (Dropout)         (None, 64)                0         \n",
      "                                                                 \n",
      " dense_8 (Dense)             (None, 10)                650       \n",
      "                                                                 \n",
      "=================================================================\n",
      "Total params: 232,650\n",
      "Trainable params: 232,650\n",
      "Non-trainable params: 0\n",
      "_________________________________________________________________\n"
     ]
    }
   ],
   "source": [
    "model = create_model()\n",
    "model.summary()"
   ]
  },
  {
   "cell_type": "code",
   "execution_count": 12,
   "metadata": {
    "colab": {
     "base_uri": "https://localhost:8080/"
    },
    "id": "fCKvX_--vh_d",
    "outputId": "ed9594a8-623a-4fe0-8467-1dd77955e4f7"
   },
   "outputs": [
    {
     "name": "stdout",
     "output_type": "stream",
     "text": [
      "Training on Fold:  1\n",
      "Epoch 1/2\n",
      "5717/5717 - 30s - loss: 0.1961 - accuracy: 0.9414 - val_loss: 0.0692 - val_accuracy: 0.9789 - 30s/epoch - 5ms/step\n",
      "Epoch 2/2\n",
      "5717/5717 - 27s - loss: 0.0763 - accuracy: 0.9789 - val_loss: 0.0606 - val_accuracy: 0.9826 - 27s/epoch - 5ms/step\n",
      "====================================================================================\n",
      "\n",
      "\n",
      "Training on Fold:  2\n",
      "Epoch 1/2\n",
      "5717/5717 - 26s - loss: 0.2041 - accuracy: 0.9387 - val_loss: 0.0688 - val_accuracy: 0.9814 - 26s/epoch - 5ms/step\n",
      "Epoch 2/2\n",
      "5717/5717 - 25s - loss: 0.0721 - accuracy: 0.9791 - val_loss: 0.0529 - val_accuracy: 0.9842 - 25s/epoch - 4ms/step\n",
      "====================================================================================\n",
      "\n",
      "\n",
      "Training on Fold:  3\n",
      "Epoch 1/2\n",
      "5717/5717 - 26s - loss: 0.2040 - accuracy: 0.9377 - val_loss: 0.0520 - val_accuracy: 0.9845 - 26s/epoch - 5ms/step\n",
      "Epoch 2/2\n",
      "5717/5717 - 58s - loss: 0.0739 - accuracy: 0.9790 - val_loss: 0.0483 - val_accuracy: 0.9865 - 58s/epoch - 10ms/step\n",
      "====================================================================================\n",
      "\n",
      "\n",
      "Training on Fold:  4\n",
      "Epoch 1/2\n",
      "5717/5717 - 39s - loss: 0.2005 - accuracy: 0.9395 - val_loss: 0.0594 - val_accuracy: 0.9831 - 39s/epoch - 7ms/step\n",
      "Epoch 2/2\n",
      "5717/5717 - 42s - loss: 0.0787 - accuracy: 0.9778 - val_loss: 0.0519 - val_accuracy: 0.9852 - 42s/epoch - 7ms/step\n",
      "====================================================================================\n",
      "\n",
      "\n",
      "Training on Fold:  5\n",
      "Epoch 1/2\n",
      "5717/5717 - 65s - loss: 0.1904 - accuracy: 0.9417 - val_loss: 0.0753 - val_accuracy: 0.9784 - 65s/epoch - 11ms/step\n",
      "Epoch 2/2\n",
      "5717/5717 - 59s - loss: 0.0740 - accuracy: 0.9785 - val_loss: 0.0776 - val_accuracy: 0.9791 - 59s/epoch - 10ms/step\n",
      "====================================================================================\n",
      "\n",
      "\n",
      "Training on Fold:  6\n",
      "Epoch 1/2\n",
      "5717/5717 - 56s - loss: 0.1878 - accuracy: 0.9429 - val_loss: 0.0717 - val_accuracy: 0.9783 - 56s/epoch - 10ms/step\n",
      "Epoch 2/2\n",
      "5717/5717 - 73s - loss: 0.0716 - accuracy: 0.9790 - val_loss: 0.0479 - val_accuracy: 0.9864 - 73s/epoch - 13ms/step\n",
      "====================================================================================\n",
      "\n",
      "\n",
      "Training on Fold:  7\n",
      "Epoch 1/2\n",
      "5717/5717 - 66s - loss: 0.2026 - accuracy: 0.9388 - val_loss: 0.0812 - val_accuracy: 0.9748 - 66s/epoch - 12ms/step\n",
      "Epoch 2/2\n",
      "5717/5717 - 76s - loss: 0.0786 - accuracy: 0.9775 - val_loss: 0.0584 - val_accuracy: 0.9835 - 76s/epoch - 13ms/step\n",
      "====================================================================================\n",
      "\n",
      "\n",
      "Training on Fold:  8\n",
      "Epoch 1/2\n",
      "5717/5717 - 66s - loss: 0.2032 - accuracy: 0.9375 - val_loss: 0.0630 - val_accuracy: 0.9817 - 66s/epoch - 12ms/step\n",
      "Epoch 2/2\n",
      "5717/5717 - 60s - loss: 0.0732 - accuracy: 0.9791 - val_loss: 0.0585 - val_accuracy: 0.9834 - 60s/epoch - 11ms/step\n",
      "====================================================================================\n",
      "\n",
      "\n",
      "Training on Fold:  9\n",
      "Epoch 1/2\n",
      "5717/5717 - 68s - loss: 0.2084 - accuracy: 0.9381 - val_loss: 0.0703 - val_accuracy: 0.9784 - 68s/epoch - 12ms/step\n",
      "Epoch 2/2\n",
      "5717/5717 - 69s - loss: 0.0739 - accuracy: 0.9791 - val_loss: 0.0607 - val_accuracy: 0.9828 - 69s/epoch - 12ms/step\n",
      "====================================================================================\n",
      "\n",
      "\n",
      "Training on Fold:  10\n",
      "Epoch 1/2\n",
      "5717/5717 - 59s - loss: 0.1952 - accuracy: 0.9417 - val_loss: 0.0777 - val_accuracy: 0.9763 - 59s/epoch - 10ms/step\n",
      "Epoch 2/2\n",
      "5717/5717 - 63s - loss: 0.0734 - accuracy: 0.9791 - val_loss: 0.0713 - val_accuracy: 0.9808 - 63s/epoch - 11ms/step\n",
      "====================================================================================\n",
      "\n",
      "\n"
     ]
    }
   ],
   "source": [
    "scores = []\n",
    "\n",
    "for i in range(K_FOLDS):\n",
    "    print(\"Training on Fold: \",i+1)\n",
    "    X_train, X_test, y_train, y_test = train_test_split(X, y, test_size=0.3\n",
    "                                               ,random_state = np.random.randint(1,1000, 1)[0])\n",
    "    \n",
    "    model = create_model()\n",
    "    model.fit(\n",
    "        X_train, \n",
    "        y_train,\n",
    "        epochs=EPOCHS,\n",
    "        batch_size=BATCH_SIZE,\n",
    "        verbose=VERBOSE,\n",
    "        validation_split=0.3\n",
    "    )\n",
    "    \n",
    "    _, score = model.evaluate(X_test, y_test, verbose = 0)\n",
    "    scores.append(score)\n",
    "   \n",
    "    print(\"=======\"*12, end=\"\\n\\n\\n\")"
   ]
  },
  {
   "cell_type": "code",
   "execution_count": 13,
   "metadata": {},
   "outputs": [
    {
     "name": "stdout",
     "output_type": "stream",
     "text": [
      "K10 Fold cross results:\n",
      "Accuracy: 52.071143463253975\n",
      "Std: 46.27433199542827\n",
      "K value: 10\n"
     ]
    }
   ],
   "source": [
    "\n",
    "print(f\"K{K_FOLDS} Fold cross results:\")\n",
    "print(\"Accuracy:\", np.mean(scores) * 100)\n",
    "print(\"Std:\",      np.std(scores) * 100)\n",
    "print(\"K value:\", len(scores))"
   ]
  },
  {
   "cell_type": "code",
   "execution_count": 7,
   "metadata": {
    "id": "utTvT4XZJiAh"
   },
   "outputs": [],
   "source": [
    "# visualkeras.layered_view(models[0], legend=True, draw_volume=False,spacing=30)"
   ]
  },
  {
   "cell_type": "code",
   "execution_count": 15,
   "metadata": {},
   "outputs": [],
   "source": [
    "scores = [score for _, score in scores]"
   ]
  },
  {
   "cell_type": "code",
   "execution_count": 16,
   "metadata": {},
   "outputs": [
    {
     "data": {
      "text/plain": [
       "[0.9822381138801575,\n",
       " 0.9834761619567871,\n",
       " 0.9855238199234009,\n",
       " 0.9853333234786987,\n",
       " 0.979190468788147,\n",
       " 0.9850000143051147,\n",
       " 0.984000027179718,\n",
       " 0.9837619066238403,\n",
       " 0.984333336353302,\n",
       " 0.9811905026435852]"
      ]
     },
     "execution_count": 16,
     "metadata": {},
     "output_type": "execute_result"
    }
   ],
   "source": [
    "scores"
   ]
  },
  {
   "cell_type": "code",
   "execution_count": null,
   "metadata": {},
   "outputs": [],
   "source": []
  }
 ],
 "metadata": {
  "colab": {
   "provenance": []
  },
  "kernelspec": {
   "display_name": "Python 3 (ipykernel)",
   "language": "python",
   "name": "python3"
  },
  "language_info": {
   "codemirror_mode": {
    "name": "ipython",
    "version": 3
   },
   "file_extension": ".py",
   "mimetype": "text/x-python",
   "name": "python",
   "nbconvert_exporter": "python",
   "pygments_lexer": "ipython3",
   "version": "3.10.4"
  }
 },
 "nbformat": 4,
 "nbformat_minor": 1
}
