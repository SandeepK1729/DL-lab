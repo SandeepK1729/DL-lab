{
 "cells": [
  {
   "cell_type": "code",
   "execution_count": null,
   "metadata": {
    "executionInfo": {
     "elapsed": 14,
     "status": "ok",
     "timestamp": 1679291557311,
     "user": {
      "displayName": "20H51A6654-ELLULLA PRANAY B.Tech AI&ML (2020-24)",
      "userId": "12104231917421119045"
     },
     "user_tz": -330
    },
    "id": "Djvf7UT6q5nt"
   },
   "outputs": [],
   "source": [
    "import numpy as np \n",
    "import pandas as pd \n",
    "\n",
    "import matplotlib.pyplot as plt\n",
    "import seaborn as sns\n",
    "\n",
    "import matplotlib.image as mpimg\n",
    "\n",
    "from sklearn.model_selection import train_test_split\n",
    "from sklearn.metrics import confusion_matrix, classification_report\n",
    "\n",
    "from tensorflow.keras.utils import to_categorical\n",
    "from tensorflow.keras.models import Sequential\n",
    "from tensorflow.keras.layers import Conv2D, MaxPool2D, Dense, Flatten, Dropout\n",
    "from keras.datasets import mnist\n",
    "\n",
    "import visualkeras"
   ]
  },
  {
   "cell_type": "code",
   "execution_count": 29,
   "metadata": {
    "executionInfo": {
     "elapsed": 4277,
     "status": "ok",
     "timestamp": 1679291561577,
     "user": {
      "displayName": "20H51A6654-ELLULLA PRANAY B.Tech AI&ML (2020-24)",
      "userId": "12104231917421119045"
     },
     "user_tz": -330
    },
    "id": "xsMuhWG1rDwf"
   },
   "outputs": [],
   "source": [
    "# loading dataset\n",
    "(X_train, y_train), (X_test, y_test) = mnist.load_data()\n",
    "\n",
    "X = np.concatenate([X_train, X_test], axis = 0)\n",
    "y = np.concatenate([y_train, y_test], axis = 0)\n",
    "\n",
    "# reshapring \n",
    "X = X.reshape(X.shape[0], 28, 28, 1) \n",
    "\n",
    "# casting to float \n",
    "X.astype('float32')\n",
    "\n",
    "# normalizing \n",
    "X = X / 255\n",
    "\n",
    "# encoding output values\n",
    "y = to_categorical(y)"
   ]
  },
  {
   "cell_type": "code",
   "execution_count": 63,
   "metadata": {
    "executionInfo": {
     "elapsed": 7,
     "status": "ok",
     "timestamp": 1679291563611,
     "user": {
      "displayName": "20H51A6654-ELLULLA PRANAY B.Tech AI&ML (2020-24)",
      "userId": "12104231917421119045"
     },
     "user_tz": -330
    },
    "id": "RyvnYoRAzVx9"
   },
   "outputs": [],
   "source": [
    "INPUT_SHAPE = (28,28,1)\n",
    "OUTPUT_SHAPE = 10\n",
    "BATCH_SIZE = 6\n",
    "EPOCHS = 2\n",
    "VERBOSE = 2\n",
    "K_FOLDS = 1"
   ]
  },
  {
   "cell_type": "code",
   "execution_count": 64,
   "metadata": {
    "executionInfo": {
     "elapsed": 671,
     "status": "ok",
     "timestamp": 1679291564275,
     "user": {
      "displayName": "20H51A6654-ELLULLA PRANAY B.Tech AI&ML (2020-24)",
      "userId": "12104231917421119045"
     },
     "user_tz": -330
    },
    "id": "paMfamiZzujy"
   },
   "outputs": [],
   "source": [
    "def create_model():\n",
    "    model = Sequential()\n",
    "\n",
    "    model.add(Conv2D(32, kernel_size=(3,3), activation='relu', input_shape=INPUT_SHAPE))\n",
    "    model.add(MaxPool2D((2,2)))\n",
    "\n",
    "    model.add(Conv2D(64, kernel_size=(3,3), activation='relu'))\n",
    "    model.add(MaxPool2D((2,2)))\n",
    "\n",
    "    model.add(Flatten())\n",
    "\n",
    "    model.add(Dense(128, activation='relu'))\n",
    "    model.add(Dropout(0.2))\n",
    "\n",
    "    model.add(Dense(64, activation='relu'))\n",
    "    model.add(Dropout(0.2))\n",
    "\n",
    "    model.add(Dense(10, activation='softmax'))\n",
    "    \n",
    "    model.compile(\n",
    "        optimizer='adam', \n",
    "        loss='categorical_crossentropy', \n",
    "        metrics=['accuracy']\n",
    "    )\n",
    "    \n",
    "    return model"
   ]
  },
  {
   "cell_type": "code",
   "execution_count": 65,
   "metadata": {
    "colab": {
     "base_uri": "https://localhost:8080/"
    },
    "executionInfo": {
     "elapsed": 395,
     "status": "ok",
     "timestamp": 1679291564664,
     "user": {
      "displayName": "20H51A6654-ELLULLA PRANAY B.Tech AI&ML (2020-24)",
      "userId": "12104231917421119045"
     },
     "user_tz": -330
    },
    "id": "jxk2xq5Vz5qf",
    "outputId": "325d6fc7-a0a5-49a8-d72f-8bf5256dc6fc"
   },
   "outputs": [
    {
     "name": "stdout",
     "output_type": "stream",
     "text": [
      "Model: \"sequential_6\"\n",
      "_________________________________________________________________\n",
      " Layer (type)                Output Shape              Param #   \n",
      "=================================================================\n",
      " conv2d_10 (Conv2D)          (None, 26, 26, 32)        320       \n",
      "                                                                 \n",
      " max_pooling2d_10 (MaxPoolin  (None, 13, 13, 32)       0         \n",
      " g2D)                                                            \n",
      "                                                                 \n",
      " conv2d_11 (Conv2D)          (None, 11, 11, 64)        18496     \n",
      "                                                                 \n",
      " max_pooling2d_11 (MaxPoolin  (None, 5, 5, 64)         0         \n",
      " g2D)                                                            \n",
      "                                                                 \n",
      " flatten_5 (Flatten)         (None, 1600)              0         \n",
      "                                                                 \n",
      " dense_15 (Dense)            (None, 128)               204928    \n",
      "                                                                 \n",
      " dropout_10 (Dropout)        (None, 128)               0         \n",
      "                                                                 \n",
      " dense_16 (Dense)            (None, 64)                8256      \n",
      "                                                                 \n",
      " dropout_11 (Dropout)        (None, 64)                0         \n",
      "                                                                 \n",
      " dense_17 (Dense)            (None, 10)                650       \n",
      "                                                                 \n",
      "=================================================================\n",
      "Total params: 232,650\n",
      "Trainable params: 232,650\n",
      "Non-trainable params: 0\n",
      "_________________________________________________________________\n"
     ]
    }
   ],
   "source": [
    "model = create_model()\n",
    "model.summary()"
   ]
  },
  {
   "cell_type": "code",
   "execution_count": null,
   "metadata": {
    "colab": {
     "base_uri": "https://localhost:8080/"
    },
    "id": "fCKvX_--vh_d",
    "outputId": "ed9594a8-623a-4fe0-8467-1dd77955e4f7"
   },
   "outputs": [
    {
     "name": "stdout",
     "output_type": "stream",
     "text": [
      "Training on Fold:  1\n",
      "Epoch 1/2\n",
      "5717/5717 - 27s - loss: 0.1902 - accuracy: 0.9424 - val_loss: 0.0697 - val_accuracy: 0.9788 - 27s/epoch - 5ms/step\n",
      "Epoch 2/2\n"
     ]
    }
   ],
   "source": [
    "scores = []\n",
    "models = []\n",
    "\n",
    "for i in range(K_FOLDS):\n",
    "    print(\"Training on Fold: \",i+1)\n",
    "    X_train, X_test, y_train, y_test = train_test_split(X, y, test_size=0.3\n",
    "                                               ,random_state = np.random.randint(1,1000, 1)[0])\n",
    "    \n",
    "    model = create_model()\n",
    "    model.fit(\n",
    "        X_train, \n",
    "        y_train,\n",
    "        epochs=EPOCHS,\n",
    "        batch_size=BATCH_SIZE,\n",
    "        verbose=VERBOSE,\n",
    "        validation_split=0.3\n",
    "    )\n",
    "    \n",
    "    scores.append(\n",
    "        model.evaluate(X_test, y_test, verbose = 0)\n",
    "    )\n",
    "    models.append(model)\n",
    "   \n",
    "    print(\"=======\"*12, end=\"\\n\\n\\n\")"
   ]
  },
  {
   "cell_type": "code",
   "execution_count": null,
   "metadata": {},
   "outputs": [],
   "source": [
    "print(f\"K{K_FOLDS} Fold cross results:\")\n",
    "print(\"Accuracy:\", np.mean(scores) * 100)\n",
    "print(\"Std:\",      np.std(scores) * 100)\n",
    "print(\"K value:\", len(scores))"
   ]
  },
  {
   "cell_type": "code",
   "execution_count": null,
   "metadata": {
    "id": "utTvT4XZJiAh"
   },
   "outputs": [],
   "source": [
    "visualkeras.layered_view(models[0], legend=True, draw_volume=False,spacing=30)"
   ]
  },
  {
   "cell_type": "code",
   "execution_count": null,
   "metadata": {
    "id": "cT51cQzVJl2_"
   },
   "outputs": [],
   "source": []
  }
 ],
 "metadata": {
  "colab": {
   "provenance": []
  },
  "kernelspec": {
   "display_name": "Python 3 (ipykernel)",
   "language": "python",
   "name": "python3"
  },
  "language_info": {
   "codemirror_mode": {
    "name": "ipython",
    "version": 3
   },
   "file_extension": ".py",
   "mimetype": "text/x-python",
   "name": "python",
   "nbconvert_exporter": "python",
   "pygments_lexer": "ipython3",
   "version": "3.10.4"
  }
 },
 "nbformat": 4,
 "nbformat_minor": 1
}
