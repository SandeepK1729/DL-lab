{
 "cells": [
  {
   "cell_type": "code",
   "execution_count": 1,
   "id": "eb000147",
   "metadata": {},
   "outputs": [],
   "source": [
    "import numpy as np"
   ]
  },
  {
   "cell_type": "code",
   "execution_count": 110,
   "id": "9bbf0e95",
   "metadata": {},
   "outputs": [],
   "source": [
    "class Network:\n",
    "    def __init__(self, layers):\n",
    "        self.network = {}\n",
    "        self.layers = layers\n",
    "        self.no_of_layers = len(layers)\n",
    "        \n",
    "        for i in range(1, self.no_of_layers):\n",
    "            self.network[f\"layer_{i}\"] =  {\n",
    "                \"weights\" : np.random.rand(\n",
    "                                layers[i],     # per each row each output\n",
    "                                layers[i - 1]  # per each col each input\n",
    "                            ),\n",
    "                \"bias\"    : np.random.rand(\n",
    "                                layers[i],\n",
    "                            )\n",
    "            }\n",
    "        \n",
    "        \n",
    "    def outcome(self, input_layer):\n",
    "        n = len(input_layer)\n",
    "        input_layer = np.array(input_layer)\n",
    "        input_layer.reshape((n, 1))\n",
    "        \n",
    "        for layer in self.network.values():\n",
    "            input_layer = (layer['weights'] @ input_layer) + layer['bias']\n",
    "            \n",
    "        return input_layer"
   ]
  },
  {
   "cell_type": "code",
   "execution_count": 111,
   "id": "bce7b90d",
   "metadata": {},
   "outputs": [],
   "source": [
    "network = Network([2, 3, 1])\n",
    "\n"
   ]
  },
  {
   "cell_type": "code",
   "execution_count": 113,
   "id": "d8e85670",
   "metadata": {},
   "outputs": [
    {
     "data": {
      "text/plain": [
       "array([4.53519331])"
      ]
     },
     "execution_count": 113,
     "metadata": {},
     "output_type": "execute_result"
    }
   ],
   "source": [
    "network.outcome([1, 1])"
   ]
  },
  {
   "cell_type": "code",
   "execution_count": null,
   "id": "1a516f94",
   "metadata": {},
   "outputs": [],
   "source": []
  },
  {
   "cell_type": "code",
   "execution_count": null,
   "id": "ce9041a8",
   "metadata": {},
   "outputs": [],
   "source": []
  }
 ],
 "metadata": {
  "kernelspec": {
   "display_name": "Python 3 (ipykernel)",
   "language": "python",
   "name": "python3"
  },
  "language_info": {
   "codemirror_mode": {
    "name": "ipython",
    "version": 3
   },
   "file_extension": ".py",
   "mimetype": "text/x-python",
   "name": "python",
   "nbconvert_exporter": "python",
   "pygments_lexer": "ipython3",
   "version": "3.10.4"
  }
 },
 "nbformat": 4,
 "nbformat_minor": 5
}
