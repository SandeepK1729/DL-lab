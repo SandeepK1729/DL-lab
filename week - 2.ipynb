{
 "cells": [
  {
   "cell_type": "code",
   "execution_count": 29,
   "id": "23c3c724",
   "metadata": {},
   "outputs": [],
   "source": [
    "import numpy as np"
   ]
  },
  {
   "cell_type": "code",
   "execution_count": 64,
   "id": "1bf3b5db",
   "metadata": {},
   "outputs": [],
   "source": [
    "class Network:\n",
    "    def __init__(self, layers):\n",
    "        self.network = {}\n",
    "        self.layers = layers\n",
    "        \n",
    "        for i in range(1, len(layers)):\n",
    "            self.network[f\"layer {i}\"] =  {\n",
    "                \"weights\" : np.random.rand(\n",
    "                        layers[i - 1],     # per each row each output\n",
    "                        layers[i]          # per each col each input\n",
    "                    ),\n",
    "                \"bias\" : np.random.rand(\n",
    "                        layers[i]\n",
    "                    )\n",
    "            }\n",
    "    \n",
    "    def activation_function(self, values):\n",
    "        \"\"\"\n",
    "            sigmoid activation function\n",
    "        \"\"\"\n",
    "        sigmoid = lambda x : 1 / (1 + np.exp(-x))\n",
    "        \n",
    "        return np.array(\n",
    "            list(\n",
    "                map(\n",
    "                    sigmoid,\n",
    "                    values.tolist()\n",
    "                )\n",
    "            )\n",
    "        )\n",
    "        \n",
    "    def outcome(self, input_layer):\n",
    "        \"\"\"\n",
    "            outcome function which will give the output values output layer\n",
    "            \n",
    "            \n",
    "            output = f(w.transpose * input + bias)\n",
    "        \"\"\"\n",
    "        input_values = np.array(input_layer)\n",
    "        \n",
    "        print(\"input layer values : \", input_layer)\n",
    "        for layer_name, layer in self.network.items():\n",
    "            \n",
    "            print(f\"{layer_name} weights :\", layer['weights'])\n",
    "            print(f\"{layer_name} bias    :\", layer['bias'])\n",
    "            \n",
    "            layer_output = (input_values.transpose() @ layer['weights']) + layer['bias']\n",
    "            print(f\"{layer_name} output  :\", layer_output)\n",
    "            \n",
    "            threshold_output = self.activation_function(layer_output)\n",
    "            print(f\"{layer_name} threshold output  :\", threshold_output, end=3 * '\\n')\n",
    "            \n",
    "            input_values = threshold_output\n",
    "            \n",
    "        return input_values"
   ]
  },
  {
   "cell_type": "code",
   "execution_count": 65,
   "id": "b5657301",
   "metadata": {},
   "outputs": [],
   "source": [
    "network = Network([2, 2, 1])"
   ]
  },
  {
   "cell_type": "code",
   "execution_count": 66,
   "id": "49a386a2",
   "metadata": {},
   "outputs": [
    {
     "name": "stdout",
     "output_type": "stream",
     "text": [
      "input layer values :  [2, 1]\n",
      "layer 1 weights : [[0.91388398 0.77822611]\n",
      " [0.28448154 0.50566554]]\n",
      "layer 1 bias    : [0.37231046 0.50457401]\n",
      "layer 1 output  : [2.48455997 2.56669177]\n",
      "layer 1 threshold output  : [0.9230523  0.92868691]\n",
      "\n",
      "\n",
      "layer 2 weights : [[0.68108819]\n",
      " [0.85383638]]\n",
      "layer 2 bias    : [0.96207291]\n",
      "layer 2 output  : [2.38369961]\n",
      "layer 2 threshold output  : [0.91557584]\n",
      "\n",
      "\n"
     ]
    },
    {
     "data": {
      "text/plain": [
       "array([0.91557584])"
      ]
     },
     "execution_count": 66,
     "metadata": {},
     "output_type": "execute_result"
    }
   ],
   "source": [
    "network.outcome([2, 1])"
   ]
  },
  {
   "cell_type": "code",
   "execution_count": null,
   "id": "79d99a90",
   "metadata": {},
   "outputs": [],
   "source": []
  },
  {
   "cell_type": "code",
   "execution_count": null,
   "id": "148f11ca",
   "metadata": {},
   "outputs": [],
   "source": []
  }
 ],
 "metadata": {
  "kernelspec": {
   "display_name": "Python 3 (ipykernel)",
   "language": "python",
   "name": "python3"
  },
  "language_info": {
   "codemirror_mode": {
    "name": "ipython",
    "version": 3
   },
   "file_extension": ".py",
   "mimetype": "text/x-python",
   "name": "python",
   "nbconvert_exporter": "python",
   "pygments_lexer": "ipython3",
   "version": "3.8.8"
  }
 },
 "nbformat": 4,
 "nbformat_minor": 5
}
