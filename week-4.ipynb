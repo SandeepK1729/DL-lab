{
 "cells": [
  {
   "cell_type": "code",
   "execution_count": 4,
   "id": "eb000147",
   "metadata": {},
   "outputs": [],
   "source": [
    "import numpy as np\n",
    "from math import exp"
   ]
  },
  {
   "cell_type": "code",
   "execution_count": 9,
   "id": "9bbf0e95",
   "metadata": {},
   "outputs": [],
   "source": [
    "class Network:\n",
    "    def __init__(self, *layers):\n",
    "        self.network = {}\n",
    "        self.layers = layers\n",
    "        self.no_of_layers = len(layers)\n",
    "        \n",
    "        for i in range(1, self.no_of_layers):\n",
    "            self.network[f\"layer_{i}\"] =  {\n",
    "                \"weights\" : np.random.rand(\n",
    "                                layers[i - 1],     # per each row each output\n",
    "                                layers[i]          # per each col each input\n",
    "                            ),\n",
    "                \"bias\"    : np.random.rand(\n",
    "                                layers[i],\n",
    "                            )\n",
    "            }\n",
    "            \n",
    "    def activation_function(self, values):\n",
    "        tanh = lambda x : (exp(-x) - exp(x)) / (exp(-x) + exp(x))\n",
    "        \n",
    "        return np.array(\n",
    "            list(\n",
    "                map(\n",
    "                    tanh, \n",
    "                    values.tolist()\n",
    "                )\n",
    "            ), \n",
    "            dtype='float32'\n",
    "        )\n",
    "        \n",
    "    def outcome(self, input_layer):\n",
    "        input_layer = np.array(input_layer)\n",
    "        \n",
    "        for layer in self.network.values():\n",
    "            input_layer = self.activation_function(\n",
    "                (layer['weights'].transpose() @ input_layer) + layer['bias']\n",
    "            )\n",
    "            \n",
    "        return input_layer"
   ]
  },
  {
   "cell_type": "code",
   "execution_count": 10,
   "id": "bce7b90d",
   "metadata": {},
   "outputs": [],
   "source": [
    "network = Network(5, 3, 2, 3, 1)"
   ]
  },
  {
   "cell_type": "code",
   "execution_count": 11,
   "id": "d8e85670",
   "metadata": {},
   "outputs": [],
   "source": [
    "x = network.outcome([1, 1, 1, 1, 1])"
   ]
  },
  {
   "cell_type": "code",
   "execution_count": 12,
   "id": "1a516f94",
   "metadata": {},
   "outputs": [
    {
     "name": "stdout",
     "output_type": "stream",
     "text": [
      "[-0.61607075]\n"
     ]
    }
   ],
   "source": [
    "print(x)"
   ]
  },
  {
   "cell_type": "code",
   "execution_count": null,
   "id": "bcc3c5ed",
   "metadata": {},
   "outputs": [],
   "source": []
  }
 ],
 "metadata": {
  "kernelspec": {
   "display_name": "Python 3 (ipykernel)",
   "language": "python",
   "name": "python3"
  },
  "language_info": {
   "codemirror_mode": {
    "name": "ipython",
    "version": 3
   },
   "file_extension": ".py",
   "mimetype": "text/x-python",
   "name": "python",
   "nbconvert_exporter": "python",
   "pygments_lexer": "ipython3",
   "version": "3.10.4"
  }
 },
 "nbformat": 4,
 "nbformat_minor": 5
}
