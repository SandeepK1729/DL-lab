{
 "cells": [
  {
   "cell_type": "code",
   "execution_count": 1,
   "metadata": {
    "executionInfo": {
     "elapsed": 14,
     "status": "ok",
     "timestamp": 1679291557311,
     "user": {
      "displayName": "20H51A6654-ELLULLA PRANAY B.Tech AI&ML (2020-24)",
      "userId": "12104231917421119045"
     },
     "user_tz": -330
    },
    "id": "Djvf7UT6q5nt"
   },
   "outputs": [],
   "source": [
    "import numpy as np \n",
    "import pandas as pd \n",
    "\n",
    "import matplotlib.pyplot as plt\n",
    "import seaborn as sns\n",
    "\n",
    "import matplotlib.image as mpimg\n",
    "\n",
    "from sklearn.model_selection import train_test_split\n",
    "from sklearn.metrics import confusion_matrix, classification_report\n",
    "\n",
    "from tensorflow.keras.utils import to_categorical\n",
    "from tensorflow.keras.models import Sequential\n",
    "from tensorflow.keras.layers import Conv2D, MaxPool2D, Dense, Flatten, Dropout\n",
    "from keras.datasets import mnist\n",
    "\n",
    "import visualkeras"
   ]
  },
  {
   "cell_type": "code",
   "execution_count": 2,
   "metadata": {
    "executionInfo": {
     "elapsed": 4277,
     "status": "ok",
     "timestamp": 1679291561577,
     "user": {
      "displayName": "20H51A6654-ELLULLA PRANAY B.Tech AI&ML (2020-24)",
      "userId": "12104231917421119045"
     },
     "user_tz": -330
    },
    "id": "xsMuhWG1rDwf"
   },
   "outputs": [],
   "source": [
    "# loading dataset\n",
    "(X_train, y_train), (X_test, y_test) = mnist.load_data()\n",
    "\n",
    "X = np.concatenate([X_train, X_test], axis = 0)\n",
    "y = np.concatenate([y_train, y_test], axis = 0)\n",
    "\n",
    "# reshapring \n",
    "X = X.reshape(X.shape[0], 28, 28, 1) \n",
    "\n",
    "# casting to float \n",
    "X.astype('float32')\n",
    "\n",
    "# normalizing \n",
    "X = X / 255\n",
    "\n",
    "# encoding output values\n",
    "y = to_categorical(y)"
   ]
  },
  {
   "cell_type": "code",
   "execution_count": 3,
   "metadata": {
    "executionInfo": {
     "elapsed": 7,
     "status": "ok",
     "timestamp": 1679291563611,
     "user": {
      "displayName": "20H51A6654-ELLULLA PRANAY B.Tech AI&ML (2020-24)",
      "userId": "12104231917421119045"
     },
     "user_tz": -330
    },
    "id": "RyvnYoRAzVx9"
   },
   "outputs": [],
   "source": [
    "INPUT_SHAPE = (28,28,1)\n",
    "OUTPUT_SHAPE = 10\n",
    "BATCH_SIZE = 6\n",
    "EPOCHS = 2 \n",
    "VERBOSE = 2\n",
    "K_FOLDS = 10"
   ]
  },
  {
   "cell_type": "code",
   "execution_count": 4,
   "metadata": {
    "executionInfo": {
     "elapsed": 671,
     "status": "ok",
     "timestamp": 1679291564275,
     "user": {
      "displayName": "20H51A6654-ELLULLA PRANAY B.Tech AI&ML (2020-24)",
      "userId": "12104231917421119045"
     },
     "user_tz": -330
    },
    "id": "paMfamiZzujy"
   },
   "outputs": [],
   "source": [
    "def create_model():\n",
    "    model = Sequential()\n",
    "\n",
    "    model.add(Conv2D(32, kernel_size=(3,3), activation='relu', input_shape=INPUT_SHAPE))\n",
    "    model.add(MaxPool2D((2,2)))\n",
    "\n",
    "    model.add(Conv2D(64, kernel_size=(3,3), activation='relu'))\n",
    "    model.add(MaxPool2D((2,2)))\n",
    "\n",
    "    model.add(Flatten())\n",
    "\n",
    "    model.add(Dense(128, activation='relu'))\n",
    "    model.add(Dropout(0.2))\n",
    "\n",
    "    model.add(Dense(64, activation='relu'))\n",
    "    model.add(Dropout(0.2))\n",
    "\n",
    "    model.add(Dense(10, activation='softmax'))\n",
    "    \n",
    "    model.compile(\n",
    "        optimizer='adam', \n",
    "        loss='categorical_crossentropy', \n",
    "        metrics=['accuracy']\n",
    "    )\n",
    "    \n",
    "    return model"
   ]
  },
  {
   "cell_type": "code",
   "execution_count": 5,
   "metadata": {
    "colab": {
     "base_uri": "https://localhost:8080/"
    },
    "executionInfo": {
     "elapsed": 395,
     "status": "ok",
     "timestamp": 1679291564664,
     "user": {
      "displayName": "20H51A6654-ELLULLA PRANAY B.Tech AI&ML (2020-24)",
      "userId": "12104231917421119045"
     },
     "user_tz": -330
    },
    "id": "jxk2xq5Vz5qf",
    "outputId": "325d6fc7-a0a5-49a8-d72f-8bf5256dc6fc"
   },
   "outputs": [
    {
     "name": "stdout",
     "output_type": "stream",
     "text": [
      "Model: \"sequential\"\n",
      "_________________________________________________________________\n",
      " Layer (type)                Output Shape              Param #   \n",
      "=================================================================\n",
      " conv2d (Conv2D)             (None, 26, 26, 32)        320       \n",
      "                                                                 \n",
      " max_pooling2d (MaxPooling2D  (None, 13, 13, 32)       0         \n",
      " )                                                               \n",
      "                                                                 \n",
      " conv2d_1 (Conv2D)           (None, 11, 11, 64)        18496     \n",
      "                                                                 \n",
      " max_pooling2d_1 (MaxPooling  (None, 5, 5, 64)         0         \n",
      " 2D)                                                             \n",
      "                                                                 \n",
      " flatten (Flatten)           (None, 1600)              0         \n",
      "                                                                 \n",
      " dense (Dense)               (None, 128)               204928    \n",
      "                                                                 \n",
      " dropout (Dropout)           (None, 128)               0         \n",
      "                                                                 \n",
      " dense_1 (Dense)             (None, 64)                8256      \n",
      "                                                                 \n",
      " dropout_1 (Dropout)         (None, 64)                0         \n",
      "                                                                 \n",
      " dense_2 (Dense)             (None, 10)                650       \n",
      "                                                                 \n",
      "=================================================================\n",
      "Total params: 232,650\n",
      "Trainable params: 232,650\n",
      "Non-trainable params: 0\n",
      "_________________________________________________________________\n"
     ]
    }
   ],
   "source": [
    "model = create_model()\n",
    "model.summary()"
   ]
  },
  {
   "cell_type": "code",
   "execution_count": 6,
   "metadata": {
    "colab": {
     "base_uri": "https://localhost:8080/"
    },
    "id": "fCKvX_--vh_d",
    "outputId": "ed9594a8-623a-4fe0-8467-1dd77955e4f7"
   },
   "outputs": [
    {
     "name": "stdout",
     "output_type": "stream",
     "text": [
      "Training on Fold:  1\n",
      "Epoch 1/2\n",
      "5717/5717 - 42s - loss: 0.2063 - accuracy: 0.9386 - val_loss: 0.0709 - val_accuracy: 0.9787 - 42s/epoch - 7ms/step\n",
      "Epoch 2/2\n",
      "5717/5717 - 36s - loss: 0.0776 - accuracy: 0.9776 - val_loss: 0.0568 - val_accuracy: 0.9843 - 36s/epoch - 6ms/step\n",
      "====================================================================================\n",
      "\n",
      "\n",
      "Training on Fold:  2\n",
      "Epoch 1/2\n",
      "5717/5717 - 38s - loss: 0.1965 - accuracy: 0.9401 - val_loss: 0.0661 - val_accuracy: 0.9813 - 38s/epoch - 7ms/step\n",
      "Epoch 2/2\n",
      "5717/5717 - 46s - loss: 0.0751 - accuracy: 0.9792 - val_loss: 0.0624 - val_accuracy: 0.9825 - 46s/epoch - 8ms/step\n",
      "====================================================================================\n",
      "\n",
      "\n",
      "Training on Fold:  3\n",
      "Epoch 1/2\n",
      "5717/5717 - 51s - loss: 0.1971 - accuracy: 0.9413 - val_loss: 0.0796 - val_accuracy: 0.9763 - 51s/epoch - 9ms/step\n",
      "Epoch 2/2\n",
      "5717/5717 - 45s - loss: 0.0777 - accuracy: 0.9786 - val_loss: 0.0669 - val_accuracy: 0.9813 - 45s/epoch - 8ms/step\n",
      "====================================================================================\n",
      "\n",
      "\n",
      "Training on Fold:  4\n",
      "Epoch 1/2\n",
      "5717/5717 - 39s - loss: 0.2085 - accuracy: 0.9353 - val_loss: 0.0710 - val_accuracy: 0.9790 - 39s/epoch - 7ms/step\n",
      "Epoch 2/2\n",
      "5717/5717 - 44s - loss: 0.0784 - accuracy: 0.9771 - val_loss: 0.0660 - val_accuracy: 0.9833 - 44s/epoch - 8ms/step\n",
      "====================================================================================\n",
      "\n",
      "\n",
      "Training on Fold:  5\n",
      "Epoch 1/2\n",
      "5717/5717 - 42s - loss: 0.1984 - accuracy: 0.9403 - val_loss: 0.0773 - val_accuracy: 0.9765 - 42s/epoch - 7ms/step\n",
      "Epoch 2/2\n",
      "5717/5717 - 42s - loss: 0.0763 - accuracy: 0.9780 - val_loss: 0.0536 - val_accuracy: 0.9843 - 42s/epoch - 7ms/step\n",
      "====================================================================================\n",
      "\n",
      "\n",
      "Training on Fold:  6\n",
      "Epoch 1/2\n",
      "5717/5717 - 49s - loss: 0.2007 - accuracy: 0.9393 - val_loss: 0.0748 - val_accuracy: 0.9782 - 49s/epoch - 9ms/step\n",
      "Epoch 2/2\n",
      "5717/5717 - 56s - loss: 0.0786 - accuracy: 0.9781 - val_loss: 0.0531 - val_accuracy: 0.9833 - 56s/epoch - 10ms/step\n",
      "====================================================================================\n",
      "\n",
      "\n",
      "Training on Fold:  7\n",
      "Epoch 1/2\n",
      "5717/5717 - 48s - loss: 0.2036 - accuracy: 0.9395 - val_loss: 0.1061 - val_accuracy: 0.9690 - 48s/epoch - 8ms/step\n",
      "Epoch 2/2\n",
      "5717/5717 - 51s - loss: 0.0776 - accuracy: 0.9772 - val_loss: 0.0733 - val_accuracy: 0.9810 - 51s/epoch - 9ms/step\n",
      "====================================================================================\n",
      "\n",
      "\n",
      "Training on Fold:  8\n",
      "Epoch 1/2\n",
      "5717/5717 - 66s - loss: 0.1911 - accuracy: 0.9415 - val_loss: 0.0666 - val_accuracy: 0.9793 - 66s/epoch - 12ms/step\n",
      "Epoch 2/2\n",
      "5717/5717 - 69s - loss: 0.0760 - accuracy: 0.9786 - val_loss: 0.0468 - val_accuracy: 0.9859 - 69s/epoch - 12ms/step\n",
      "====================================================================================\n",
      "\n",
      "\n",
      "Training on Fold:  9\n",
      "Epoch 1/2\n",
      "5717/5717 - 55s - loss: 0.1958 - accuracy: 0.9423 - val_loss: 0.0620 - val_accuracy: 0.9822 - 55s/epoch - 10ms/step\n",
      "Epoch 2/2\n",
      "5717/5717 - 54s - loss: 0.0774 - accuracy: 0.9778 - val_loss: 0.0472 - val_accuracy: 0.9854 - 54s/epoch - 9ms/step\n",
      "====================================================================================\n",
      "\n",
      "\n",
      "Training on Fold:  10\n",
      "Epoch 1/2\n",
      "5717/5717 - 66s - loss: 0.2022 - accuracy: 0.9399 - val_loss: 0.0774 - val_accuracy: 0.9776 - 66s/epoch - 12ms/step\n",
      "Epoch 2/2\n",
      "5717/5717 - 66s - loss: 0.0753 - accuracy: 0.9784 - val_loss: 0.0626 - val_accuracy: 0.9832 - 66s/epoch - 11ms/step\n",
      "====================================================================================\n",
      "\n",
      "\n"
     ]
    }
   ],
   "source": [
    "scores = []\n",
    "\n",
    "for i in range(K_FOLDS):\n",
    "    print(\"Training on Fold: \",i+1)\n",
    "    X_train, X_test, y_train, y_test = train_test_split(X, y, test_size=0.3\n",
    "                                               ,random_state = np.random.randint(1,1000, 1)[0])\n",
    "    \n",
    "    model = create_model()\n",
    "    model.fit(\n",
    "        X_train, \n",
    "        y_train,\n",
    "        epochs=EPOCHS,\n",
    "        batch_size=BATCH_SIZE,\n",
    "        verbose=VERBOSE,\n",
    "        validation_split=0.3\n",
    "    )\n",
    "    \n",
    "    _, score = model.evaluate(X_test, y_test, verbose = 0)\n",
    "    scores.append(score)\n",
    "   \n",
    "    print(\"=======\"*12, end=\"\\n\\n\\n\")"
   ]
  },
  {
   "cell_type": "code",
   "execution_count": 9,
   "metadata": {},
   "outputs": [
    {
     "name": "stdout",
     "output_type": "stream",
     "text": [
      "K10 Fold cross results:\n",
      "Accuracy: 98.28523755073547\n",
      "Std: 0.15758266165534981\n",
      "K value: 10\n"
     ]
    }
   ],
   "source": [
    "\n",
    "print(f\"K{K_FOLDS} Fold cross results:\")\n",
    "print(\"Accuracy:\", np.mean(scores) * 100)\n",
    "print(\"Std:\",      np.std(scores) * 100)\n",
    "print(\"K value:\", len(scores))"
   ]
  },
  {
   "cell_type": "code",
   "execution_count": null,
   "metadata": {},
   "outputs": [],
   "source": []
  }
 ],
 "metadata": {
  "colab": {
   "provenance": []
  },
  "kernelspec": {
   "display_name": "Python 3 (ipykernel)",
   "language": "python",
   "name": "python3"
  },
  "language_info": {
   "codemirror_mode": {
    "name": "ipython",
    "version": 3
   },
   "file_extension": ".py",
   "mimetype": "text/x-python",
   "name": "python",
   "nbconvert_exporter": "python",
   "pygments_lexer": "ipython3",
   "version": "3.10.4"
  }
 },
 "nbformat": 4,
 "nbformat_minor": 1
}
