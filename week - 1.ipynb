{
 "cells": [
  {
   "cell_type": "code",
   "execution_count": 13,
   "id": "8f69ff86",
   "metadata": {},
   "outputs": [],
   "source": [
    "import numpy as np"
   ]
  },
  {
   "cell_type": "code",
   "execution_count": 14,
   "id": "af5e7389",
   "metadata": {
    "collapsed": true
   },
   "outputs": [
    {
     "data": {
      "text/plain": [
       "['BitGenerator',\n",
       " 'Generator',\n",
       " 'MT19937',\n",
       " 'PCG64',\n",
       " 'Philox',\n",
       " 'RandomState',\n",
       " 'SFC64',\n",
       " 'SeedSequence',\n",
       " '__RandomState_ctor',\n",
       " '__all__',\n",
       " '__builtins__',\n",
       " '__cached__',\n",
       " '__doc__',\n",
       " '__file__',\n",
       " '__loader__',\n",
       " '__name__',\n",
       " '__package__',\n",
       " '__path__',\n",
       " '__spec__',\n",
       " '_bounded_integers',\n",
       " '_common',\n",
       " '_generator',\n",
       " '_mt19937',\n",
       " '_pcg64',\n",
       " '_philox',\n",
       " '_pickle',\n",
       " '_sfc64',\n",
       " 'beta',\n",
       " 'binomial',\n",
       " 'bit_generator',\n",
       " 'bytes',\n",
       " 'chisquare',\n",
       " 'choice',\n",
       " 'default_rng',\n",
       " 'dirichlet',\n",
       " 'exponential',\n",
       " 'f',\n",
       " 'gamma',\n",
       " 'geometric',\n",
       " 'get_state',\n",
       " 'gumbel',\n",
       " 'hypergeometric',\n",
       " 'laplace',\n",
       " 'logistic',\n",
       " 'lognormal',\n",
       " 'logseries',\n",
       " 'mtrand',\n",
       " 'multinomial',\n",
       " 'multivariate_normal',\n",
       " 'negative_binomial',\n",
       " 'noncentral_chisquare',\n",
       " 'noncentral_f',\n",
       " 'normal',\n",
       " 'pareto',\n",
       " 'permutation',\n",
       " 'poisson',\n",
       " 'power',\n",
       " 'rand',\n",
       " 'randint',\n",
       " 'randn',\n",
       " 'random',\n",
       " 'random_integers',\n",
       " 'random_sample',\n",
       " 'ranf',\n",
       " 'rayleigh',\n",
       " 'sample',\n",
       " 'seed',\n",
       " 'set_state',\n",
       " 'shuffle',\n",
       " 'standard_cauchy',\n",
       " 'standard_exponential',\n",
       " 'standard_gamma',\n",
       " 'standard_normal',\n",
       " 'standard_t',\n",
       " 'test',\n",
       " 'triangular',\n",
       " 'uniform',\n",
       " 'vonmises',\n",
       " 'wald',\n",
       " 'weibull',\n",
       " 'zipf']"
      ]
     },
     "execution_count": 14,
     "metadata": {},
     "output_type": "execute_result"
    }
   ],
   "source": [
    "dir(np.random)"
   ]
  },
  {
   "cell_type": "code",
   "execution_count": 15,
   "id": "dd1cc611",
   "metadata": {},
   "outputs": [],
   "source": [
    "weights = { f\"w{i}\" : np.random.random() for i in range(1, 7)}\n",
    "bias    = { f\"b{i}\" : np.random.random() for i in range(1, 4)}\n"
   ]
  },
  {
   "cell_type": "code",
   "execution_count": 16,
   "id": "4c93753c",
   "metadata": {},
   "outputs": [
    {
     "data": {
      "text/plain": [
       "{'w1': 0.6748560714657876,\n",
       " 'w2': 0.5481711037098632,\n",
       " 'w3': 0.2277784796755119,\n",
       " 'w4': 0.988199714018632,\n",
       " 'w5': 0.48878628298314775,\n",
       " 'w6': 0.7825665669150632}"
      ]
     },
     "execution_count": 16,
     "metadata": {},
     "output_type": "execute_result"
    }
   ],
   "source": [
    "weights"
   ]
  },
  {
   "cell_type": "code",
   "execution_count": 17,
   "id": "b33a7e41",
   "metadata": {},
   "outputs": [
    {
     "data": {
      "text/plain": [
       "{'b1': 0.6138471639209954, 'b2': 0.07381108361336652, 'b3': 0.6113257010195876}"
      ]
     },
     "execution_count": 17,
     "metadata": {},
     "output_type": "execute_result"
    }
   ],
   "source": [
    "bias"
   ]
  },
  {
   "cell_type": "code",
   "execution_count": 46,
   "id": "1bf3b5db",
   "metadata": {},
   "outputs": [],
   "source": [
    "class Network:\n",
    "    def __init__(self, no_of_nodes_in_layers):\n",
    "        self.network = {}\n",
    "        self.no_of_nodes_in_layers = no_of_nodes_in_layers\n",
    "        self.no_of_layers = len(no_of_nodes_in_layers)\n",
    "        \n",
    "        for i in range(1, len(no_of_nodes_in_layers)):\n",
    "            self.network[f\"layer_{i}\"] =  {\n",
    "                \"weights\" : np.random.rand(\n",
    "                        no_of_nodes_in_layers[i],     # per each row each output\n",
    "                        no_of_nodes_in_layers[i - 1]  # per each col each input\n",
    "                    ),\n",
    "                \"bias\" : np.random.rand(\n",
    "                        no_of_nodes_in_layers[i],\n",
    "                        1\n",
    "                    )\n",
    "            }\n",
    "        \n",
    "        print(self.network)\n",
    "        \n",
    "    def outcome(self, input_layer):\n",
    "        n = len(input_layer)\n",
    "        input_layer = np.array(input_layer)\n",
    "        input_layer.reshape((n, 1))\n",
    "        \n",
    "        for hidden_layer in self.network:\n",
    "            print(hidden_layer)"
   ]
  },
  {
   "cell_type": "code",
   "execution_count": 44,
   "id": "b5657301",
   "metadata": {},
   "outputs": [
    {
     "name": "stdout",
     "output_type": "stream",
     "text": [
      "{'layer_1': {'weights': array([[0.79509105, 0.26943192],\n",
      "       [0.03109472, 0.4488114 ]]), 'bias': array([[0.06627131],\n",
      "       [0.57326296]])}, 'layer_2': {'weights': array([[0.42230945, 0.89606936]]), 'bias': array([[0.99073249]])}}\n"
     ]
    }
   ],
   "source": [
    "network = Network([2, 2, 1])"
   ]
  },
  {
   "cell_type": "code",
   "execution_count": 45,
   "id": "49a386a2",
   "metadata": {},
   "outputs": [
    {
     "name": "stdout",
     "output_type": "stream",
     "text": [
      "(2,)\n"
     ]
    }
   ],
   "source": [
    "network.outcome([2, 1])"
   ]
  },
  {
   "cell_type": "code",
   "execution_count": null,
   "id": "21a1e866",
   "metadata": {},
   "outputs": [],
   "source": []
  }
 ],
 "metadata": {
  "kernelspec": {
   "display_name": "Python 3 (ipykernel)",
   "language": "python",
   "name": "python3"
  },
  "language_info": {
   "codemirror_mode": {
    "name": "ipython",
    "version": 3
   },
   "file_extension": ".py",
   "mimetype": "text/x-python",
   "name": "python",
   "nbconvert_exporter": "python",
   "pygments_lexer": "ipython3",
   "version": "3.8.8"
  }
 },
 "nbformat": 4,
 "nbformat_minor": 5
}
