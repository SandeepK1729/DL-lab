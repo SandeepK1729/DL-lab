{
 "cells": [
  {
   "cell_type": "code",
   "execution_count": 6,
   "id": "8f69ff86",
   "metadata": {},
   "outputs": [],
   "source": [
    "import numpy as np"
   ]
  },
  {
   "cell_type": "code",
   "execution_count": 10,
   "id": "dd1cc611",
   "metadata": {},
   "outputs": [],
   "source": [
    "weights = { f\"w{i}\" : np.round(np.random.random(), 2) for i in range(1, 7)}\n",
    "bias    = { f\"b{i}\" : np.round(np.random.random(), 2) for i in range(1, 4)}\n"
   ]
  },
  {
   "cell_type": "code",
   "execution_count": 11,
   "id": "4c93753c",
   "metadata": {},
   "outputs": [
    {
     "data": {
      "text/plain": [
       "{'w1': 0.26, 'w2': 0.5, 'w3': 0.48, 'w4': 0.7, 'w5': 0.82, 'w6': 0.23}"
      ]
     },
     "execution_count": 11,
     "metadata": {},
     "output_type": "execute_result"
    }
   ],
   "source": [
    "weights"
   ]
  },
  {
   "cell_type": "code",
   "execution_count": 5,
   "id": "b33a7e41",
   "metadata": {},
   "outputs": [
    {
     "data": {
      "text/plain": [
       "{'b1': 0.56, 'b2': 0.56, 'b3': 0.81}"
      ]
     },
     "execution_count": 5,
     "metadata": {},
     "output_type": "execute_result"
    }
   ],
   "source": [
    "bias"
   ]
  },
  {
   "cell_type": "code",
   "execution_count": null,
   "id": "e96d25e6",
   "metadata": {},
   "outputs": [],
   "source": []
  }
 ],
 "metadata": {
  "kernelspec": {
   "display_name": "Python 3 (ipykernel)",
   "language": "python",
   "name": "python3"
  },
  "language_info": {
   "codemirror_mode": {
    "name": "ipython",
    "version": 3
   },
   "file_extension": ".py",
   "mimetype": "text/x-python",
   "name": "python",
   "nbconvert_exporter": "python",
   "pygments_lexer": "ipython3",
   "version": "3.9.12"
  }
 },
 "nbformat": 4,
 "nbformat_minor": 5
}
