{
 "cells": [
  {
   "cell_type": "code",
   "execution_count": 1,
   "id": "eb000147",
   "metadata": {},
   "outputs": [],
   "source": [
    "import numpy as np"
   ]
  },
  {
   "cell_type": "code",
   "execution_count": 2,
   "id": "bcc3c5ed",
   "metadata": {},
   "outputs": [],
   "source": [
    "class Network:\n",
    "    def __init__(self, layers):\n",
    "        self.network = {}\n",
    "        self.layers = layers\n",
    "        \n",
    "        for i in range(1, len(layers)):\n",
    "            self.network[f\"layer {i}\"] =  {\n",
    "                \"weights\" : np.random.rand(\n",
    "                        layers[i - 1],     # per each row each output\n",
    "                        layers[i]          # per each col each input\n",
    "                    ),\n",
    "                \"bias\" : np.random.rand(\n",
    "                        layers[i]\n",
    "                    )\n",
    "            }\n",
    "    \n",
    "    def activation(self, values):\n",
    "        \"\"\"\n",
    "            RELU activation function\n",
    "        \"\"\"\n",
    "        relu = lambda x : max(0, x)\n",
    "        \n",
    "        return np.array([\n",
    "            relu(value) for value in values\n",
    "        ])\n",
    "        \n",
    "    def forward(self, input_layer):\n",
    "        \"\"\"\n",
    "            outcome function which will give the output values output layer\n",
    "            \n",
    "            \n",
    "            output = f(w.transpose * input + bias)\n",
    "        \"\"\"\n",
    "        input_values = np.array(input_layer)\n",
    "        \n",
    "        for layer_name, layer in self.network.items():\n",
    "            layer_output = (layer['weights'].transpose() @ input_values) + layer['bias']\n",
    "          \n",
    "            threshold_output = self.activation(layer_output)\n",
    "        \n",
    "            input_values = threshold_output\n",
    "            \n",
    "        return np.round(input_values, 2)"
   ]
  },
  {
   "cell_type": "code",
   "execution_count": 3,
   "id": "bce7b90d",
   "metadata": {},
   "outputs": [],
   "source": [
    "network = Network([5, 3, 2, 3, 1])"
   ]
  },
  {
   "cell_type": "code",
   "execution_count": 4,
   "id": "d8e85670",
   "metadata": {},
   "outputs": [
    {
     "name": "stdout",
     "output_type": "stream",
     "text": [
      "Output is [10.61]\n"
     ]
    }
   ],
   "source": [
    "print(f\"Output is {network.forward([2, 1, 1 , 1, 2])}\")"
   ]
  },
  {
   "cell_type": "code",
   "execution_count": null,
   "id": "cca47e5b",
   "metadata": {},
   "outputs": [],
   "source": []
  }
 ],
 "metadata": {
  "kernelspec": {
   "display_name": "Python 3 (ipykernel)",
   "language": "python",
   "name": "python3"
  },
  "language_info": {
   "codemirror_mode": {
    "name": "ipython",
    "version": 3
   },
   "file_extension": ".py",
   "mimetype": "text/x-python",
   "name": "python",
   "nbconvert_exporter": "python",
   "pygments_lexer": "ipython3",
   "version": "3.10.4"
  }
 },
 "nbformat": 4,
 "nbformat_minor": 5
}
