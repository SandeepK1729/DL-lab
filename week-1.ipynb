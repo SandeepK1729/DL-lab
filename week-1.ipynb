{
 "cells": [
  {
   "cell_type": "code",
   "execution_count": 5,
   "id": "8f69ff86",
   "metadata": {},
   "outputs": [],
   "source": [
    "import numpy as np"
   ]
  },
  {
   "cell_type": "code",
   "execution_count": 6,
   "id": "dd1cc611",
   "metadata": {},
   "outputs": [],
   "source": [
    "weights = { f\"w{i}\" : np.random.random() for i in range(1, 7)}\n",
    "bias    = { f\"b{i}\" : np.random.random() for i in range(1, 4)}\n"
   ]
  },
  {
   "cell_type": "code",
   "execution_count": 7,
   "id": "4c93753c",
   "metadata": {},
   "outputs": [
    {
     "data": {
      "text/plain": [
       "{'w1': 0.5643380655696649,\n",
       " 'w2': 0.6594211007389349,\n",
       " 'w3': 0.02521497449849619,\n",
       " 'w4': 0.6285151239968818,\n",
       " 'w5': 0.5060711237474623,\n",
       " 'w6': 0.03885429451772293}"
      ]
     },
     "execution_count": 7,
     "metadata": {},
     "output_type": "execute_result"
    }
   ],
   "source": [
    "weights"
   ]
  },
  {
   "cell_type": "code",
   "execution_count": 8,
   "id": "b33a7e41",
   "metadata": {},
   "outputs": [
    {
     "data": {
      "text/plain": [
       "{'b1': 0.27098265776605523, 'b2': 0.2592213147061191, 'b3': 0.5110435673983456}"
      ]
     },
     "execution_count": 8,
     "metadata": {},
     "output_type": "execute_result"
    }
   ],
   "source": [
    "bias"
   ]
  }
 ],
 "metadata": {
  "kernelspec": {
   "display_name": "Python 3 (ipykernel)",
   "language": "python",
   "name": "python3"
  },
  "language_info": {
   "codemirror_mode": {
    "name": "ipython",
    "version": 3
   },
   "file_extension": ".py",
   "mimetype": "text/x-python",
   "name": "python",
   "nbconvert_exporter": "python",
   "pygments_lexer": "ipython3",
   "version": "3.10.4"
  }
 },
 "nbformat": 4,
 "nbformat_minor": 5
}
