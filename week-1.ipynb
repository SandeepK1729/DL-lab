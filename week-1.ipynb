{
 "cells": [
  {
   "cell_type": "code",
   "execution_count": 1,
   "id": "8f69ff86",
   "metadata": {},
   "outputs": [],
   "source": [
    "import numpy as np"
   ]
  },
  {
   "cell_type": "code",
   "execution_count": 2,
   "id": "dd1cc611",
   "metadata": {},
   "outputs": [],
   "source": [
    "weights = { f\"w{i}\" : np.round(np.random.random(), 2) for i in range(1, 7)}\n",
    "bias    = { f\"b{i}\" : np.round(np.random.random(), 2) for i in range(1, 4)}\n"
   ]
  },
  {
   "cell_type": "code",
   "execution_count": 3,
   "id": "4c93753c",
   "metadata": {},
   "outputs": [
    {
     "data": {
      "text/plain": [
       "{'w1': 0.87, 'w2': 0.67, 'w3': 0.44, 'w4': 0.17, 'w5': 0.18, 'w6': 0.68}"
      ]
     },
     "execution_count": 3,
     "metadata": {},
     "output_type": "execute_result"
    }
   ],
   "source": [
    "weights"
   ]
  },
  {
   "cell_type": "code",
   "execution_count": 4,
   "id": "b33a7e41",
   "metadata": {},
   "outputs": [
    {
     "data": {
      "text/plain": [
       "{'b1': 0.16, 'b2': 0.95, 'b3': 0.93}"
      ]
     },
     "execution_count": 4,
     "metadata": {},
     "output_type": "execute_result"
    }
   ],
   "source": [
    "bias"
   ]
  },
  {
   "cell_type": "code",
   "execution_count": null,
   "id": "1656c073",
   "metadata": {},
   "outputs": [],
   "source": []
  }
 ],
 "metadata": {
  "kernelspec": {
   "display_name": "Python 3 (ipykernel)",
   "language": "python",
   "name": "python3"
  },
  "language_info": {
   "codemirror_mode": {
    "name": "ipython",
    "version": 3
   },
   "file_extension": ".py",
   "mimetype": "text/x-python",
   "name": "python",
   "nbconvert_exporter": "python",
   "pygments_lexer": "ipython3",
   "version": "3.10.4"
  }
 },
 "nbformat": 4,
 "nbformat_minor": 5
}
